{
 "cells": [
  {
   "cell_type": "code",
   "execution_count": 49,
   "metadata": {},
   "outputs": [],
   "source": [
    "import datetime\n",
    "import calendar"
   ]
  },
  {
   "cell_type": "code",
   "execution_count": 50,
   "metadata": {},
   "outputs": [
    {
     "name": "stdout",
     "output_type": "stream",
     "text": [
      "Enter a number > 1 :3\n",
      "16\n"
     ]
    }
   ],
   "source": [
    "def pentagonal(n):\n",
    "    l=[]\n",
    "    if n==1:\n",
    "        return 1\n",
    "    else:\n",
    "        for i in range(1,n):\n",
    "            l.append(i*5)\n",
    "    return sum(l)+1\n",
    "\n",
    "\n",
    "a=int(input(\"Enter a number > 1 :\"))\n",
    "if a<0:\n",
    "    print(\"Please entaer a number >1 \")\n",
    "else:\n",
    "    print(pentagonal(a))\n",
    "            \n",
    "\n"
   ]
  },
  {
   "cell_type": "code",
   "execution_count": 46,
   "metadata": {},
   "outputs": [
    {
     "name": "stdout",
     "output_type": "stream",
     "text": [
      "0c0pl0aca\n"
     ]
    }
   ],
   "source": [
    "def rev(s1):\n",
    "    s1=s1[::-1]\n",
    "    l1=list(s1)\n",
    "    d=dict(a='0',e='1',i='2',o='2',u='3')\n",
    "    for i in range(len(l1)):\n",
    "        l1[i]=l1[i].lower()\n",
    "        if l1[i]in d:\n",
    "            l1[i]=d[l1[i]]\n",
    "    \n",
    "    s2=\"\"\n",
    "    for i in l1:\n",
    "        s2+=i\n",
    "        \n",
    "        \n",
    "                 \n",
    "    return s2+'aca'\n",
    "    \n",
    "print(rev(\"alpaca\"))"
   ]
  },
  {
   "cell_type": "code",
   "execution_count": 59,
   "metadata": {},
   "outputs": [
    {
     "name": "stdout",
     "output_type": "stream",
     "text": [
      "Monday\n"
     ]
    }
   ],
   "source": [
    "def has_friday_13(date):\n",
    "    date='13 01 1997'\n",
    "    day=datetime.datetime.strptime(date, '%d %m %Y').weekday()\n",
    "    print(calendar.day_name[day])\n",
    "date='13 10 2017'    \n",
    "has_friday_13(date)"
   ]
  },
  {
   "cell_type": "code",
   "execution_count": 80,
   "metadata": {},
   "outputs": [
    {
     "data": {
      "text/plain": [
       "False"
      ]
     },
     "execution_count": 80,
     "metadata": {},
     "output_type": "execute_result"
    }
   ],
   "source": [
    "def has_friday_13(month,year):\n",
    "    date='13 '+str(month)+\" \"+str(year)\n",
    "    day=datetime.datetime.strptime(date, '%d %m %Y').weekday()\n",
    "    \n",
    "    day2=calendar.day_name[day]\n",
    "    if day2=='Friday':\n",
    "        return True\n",
    "    else:\n",
    "        return False\n",
    "    \n",
    "\n",
    "    \n",
    "has_friday_13(4, 2021)"
   ]
  },
  {
   "cell_type": "code",
   "execution_count": null,
   "metadata": {},
   "outputs": [],
   "source": []
  },
  {
   "cell_type": "code",
   "execution_count": null,
   "metadata": {},
   "outputs": [],
   "source": []
  }
 ],
 "metadata": {
  "kernelspec": {
   "display_name": "Python 3",
   "language": "python",
   "name": "python3"
  },
  "language_info": {
   "codemirror_mode": {
    "name": "ipython",
    "version": 3
   },
   "file_extension": ".py",
   "mimetype": "text/x-python",
   "name": "python",
   "nbconvert_exporter": "python",
   "pygments_lexer": "ipython3",
   "version": "3.8.5"
  }
 },
 "nbformat": 4,
 "nbformat_minor": 4
}
